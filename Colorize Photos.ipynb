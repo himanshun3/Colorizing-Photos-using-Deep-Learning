{
 "cells": [
  {
   "cell_type": "code",
   "execution_count": 2,
   "metadata": {},
   "outputs": [
    {
     "name": "stdout",
     "output_type": "stream",
     "text": [
      "AlgoResponse(result={'output': 'data://.algo/deeplearning/ColorfulImageColorization/temp/pexels-photo-57905.png'},metadata=Metadata(content_type='json',duration=16.993377917,stdout=None))\n"
     ]
    }
   ],
   "source": [
    "import Algorithmia\n",
    "input = {\n",
    "\"image\": \"...\"                        #Image1 Path\n",
    "}\n",
    "client=Algorithmia.client('....')                             #Api Key\n",
    "algo=client.algo('...')                                       #Algorithm Name\n",
    "print(algo.pipe(input))"
   ]
  },
  {
   "cell_type": "code",
   "execution_count": 3,
   "metadata": {},
   "outputs": [
    {
     "name": "stdout",
     "output_type": "stream",
     "text": [
      "AlgoResponse(result={'output': 'data://.algo/deeplearning/ColorfulImageColorization/temp/jennifer_lawrence_black_and_white-t2.png'},metadata=Metadata(content_type='json',duration=22.267640695,stdout=None))\n"
     ]
    }
   ],
   "source": [
    "import Algorithmia\n",
    "input = {\n",
    "\"image\": \"...\"                        #Image2 Path\n",
    "}\n",
    "client=Algorithmia.client('....')                             #Api Key\n",
    "algo=client.algo('...')                                       #Algorithm Name\n",
    "print(algo.pipe(input))"
   ]
  },
  {
   "cell_type": "code",
   "execution_count": null,
   "metadata": {},
   "outputs": [],
   "source": []
  }
 ],
 "metadata": {
  "kernelspec": {
   "display_name": "Python 3",
   "language": "python",
   "name": "python3"
  },
  "language_info": {
   "codemirror_mode": {
    "name": "ipython",
    "version": 3
   },
   "file_extension": ".py",
   "mimetype": "text/x-python",
   "name": "python",
   "nbconvert_exporter": "python",
   "pygments_lexer": "ipython3",
   "version": "3.6.4"
  }
 },
 "nbformat": 4,
 "nbformat_minor": 2
}
